{
 "cells": [
  {
   "cell_type": "code",
   "execution_count": 1,
   "metadata": {},
   "outputs": [],
   "source": [
    "import torch \n",
    "import torch.nn as nn \n",
    "from torch.nn import functional as F "
   ]
  },
  {
   "cell_type": "code",
   "execution_count": 2,
   "metadata": {},
   "outputs": [],
   "source": [
    "# hyperparameters\n",
    "batch_size = 32 \n",
    "block_size = 8 \n",
    "max_iters = 3000\n",
    "eval_interval = 300\n",
    "learning_rate = 1e-2\n",
    "\n",
    "device = 'cuda' if torch.cuda.is_available() else \"cpu\"\n",
    "eval_iters = 200"
   ]
  },
  {
   "cell_type": "code",
   "execution_count": 3,
   "metadata": {},
   "outputs": [
    {
     "data": {
      "text/plain": [
       "<torch._C.Generator at 0x7fed40122230>"
      ]
     },
     "execution_count": 3,
     "metadata": {},
     "output_type": "execute_result"
    }
   ],
   "source": [
    "torch.manual_seed(1337)"
   ]
  },
  {
   "cell_type": "code",
   "execution_count": 5,
   "metadata": {},
   "outputs": [],
   "source": [
    "# !wget https://raw.githubusercontent.com/karpathy/char-rnn/master/data/tinyshakespeare/input.txt"
   ]
  },
  {
   "cell_type": "code",
   "execution_count": 6,
   "metadata": {},
   "outputs": [],
   "source": [
    "with open(\"input.txt\", \"r\", encoding=\"utf-8\") as f:\n",
    "    text = f.read()"
   ]
  },
  {
   "cell_type": "code",
   "execution_count": 11,
   "metadata": {},
   "outputs": [],
   "source": [
    "# get the unique characters in the text\n",
    "\n",
    "chars = sorted(list(set(text)))\n",
    "vocab_size = len(chars)"
   ]
  },
  {
   "cell_type": "code",
   "execution_count": 44,
   "metadata": {},
   "outputs": [],
   "source": [
    "# create a mapping from characters to integers and vice-versa\n",
    "\n",
    "stoi = {ch:i for i, ch in enumerate(chars)}\n",
    "itos = {i:ch for i, ch in enumerate(chars)}\n",
    "\n",
    "encode = lambda s: [stoi[c] for c in s] # string to list of integers\n",
    "decode = lambda l: ''.join([itos[i] for i in l]) # integers to string"
   ]
  },
  {
   "cell_type": "code",
   "execution_count": 13,
   "metadata": {},
   "outputs": [],
   "source": [
    "# train and test splits\n",
    "\n",
    "data = torch.tensor(encode(text), dtype=torch.long)"
   ]
  },
  {
   "cell_type": "code",
   "execution_count": 14,
   "metadata": {},
   "outputs": [],
   "source": [
    "n = int(.9*len(data)) # reserve 90% for training and 10% for validation\n",
    "train_data = data[:n]\n",
    "val_data = data[n:]"
   ]
  },
  {
   "cell_type": "code",
   "execution_count": 17,
   "metadata": {},
   "outputs": [],
   "source": [
    "# data loading \n",
    "\n",
    "def get_batch(split):\n",
    "    # create a small batch of data of inputs x and targets y\n",
    "    data = train_data if split == \"train\" else val_data\n",
    "    ix = torch.randint(len(data)-block_size, (batch_size,))\n",
    "    x = torch.stack([data[i:i+block_size] for i in ix])\n",
    "    y = torch.stack([data[i+1:i+block_size+1] for i in ix])\n",
    "    x, y = x.to(device), y.to(device)\n",
    "    return x, y"
   ]
  },
  {
   "cell_type": "code",
   "execution_count": 82,
   "metadata": {},
   "outputs": [],
   "source": [
    "class BigramLanguageModel(nn.Module):\n",
    "    def __init__(self):\n",
    "        super().__init__()\n",
    "        # each token directly reads off the logits for the next token from the lookup table\n",
    "        self.token_embedding_table = nn.Embedding(vocab_size, vocab_size)\n",
    "\n",
    "    def forward(self, idx, targets=None):\n",
    "        logits = self.token_embedding_table(idx)\n",
    "\n",
    "        if targets is None:\n",
    "            loss = None\n",
    "        else:\n",
    "            B,T,C = logits.shape\n",
    "            logits = logits.view(B*T, C)\n",
    "            targets = targets.view(B*T)\n",
    "            loss = F.cross_entropy(logits, targets)\n",
    "        return logits, loss\n",
    "    \n",
    "\n",
    "    def generate(self, idx, max_new_tokens):\n",
    "        # idx is (B,T) array of indices in the current context\n",
    "        for _ in range(max_new_tokens):\n",
    "            # get the predictions\n",
    "            logits, loss = self(idx)\n",
    "\n",
    "            # focus only on the last time step \n",
    "            logits = logits[:, -1, :] # (B,C)\n",
    "            # apply softmax to get the probabilites\n",
    "            probs = F.softmax(logits, dim=-1) # (B,C)\n",
    "\n",
    "            # sample from the distribution\n",
    "            idx_next = torch.multinomial(probs, num_samples=1) # (B,1)\n",
    "            # append the sampled index to the running sequence\n",
    "            idx = torch.cat([idx, idx_next], dim=1) # (B,T+1)\n",
    "        return idx"
   ]
  },
  {
   "cell_type": "code",
   "execution_count": 92,
   "metadata": {},
   "outputs": [],
   "source": [
    "model = BigramLanguageModel()\n",
    "\n",
    "model = model.to(device)"
   ]
  },
  {
   "cell_type": "code",
   "execution_count": 79,
   "metadata": {},
   "outputs": [],
   "source": [
    "# out = model.generate(torch.tensor([[7]]),5)"
   ]
  },
  {
   "cell_type": "code",
   "execution_count": 80,
   "metadata": {},
   "outputs": [
    {
     "data": {
      "text/plain": [
       "[\"-'VlDa\"]"
      ]
     },
     "execution_count": 80,
     "metadata": {},
     "output_type": "execute_result"
    }
   ],
   "source": [
    "# [decode(x.tolist()) for x in out]"
   ]
  },
  {
   "cell_type": "code",
   "execution_count": 93,
   "metadata": {},
   "outputs": [],
   "source": [
    "@torch.no_grad()\n",
    "def evaluate_loss():\n",
    "    out = {}\n",
    "    model.eval()\n",
    "    for split in [\"train\", \"val\"]:\n",
    "        losses = torch.zeros(eval_iters)\n",
    "        for k in range(eval_iters):\n",
    "            X, Y = get_batch(split)\n",
    "            logits, loss = model(X,Y)\n",
    "            losses[k] = loss.item()\n",
    "        out[split] = losses.mean()\n",
    "    model.train()\n",
    "    return out"
   ]
  },
  {
   "cell_type": "code",
   "execution_count": 94,
   "metadata": {},
   "outputs": [],
   "source": [
    "optimizer = torch.optim.AdamW(model.parameters(), lr=learning_rate)"
   ]
  },
  {
   "cell_type": "code",
   "execution_count": 98,
   "metadata": {},
   "outputs": [
    {
     "name": "stdout",
     "output_type": "stream",
     "text": [
      "step 0: train loss 2.4503 val loss 2.4970\n",
      "step 200: train loss 2.4568 val loss 2.4964\n",
      "step 400: train loss 2.4574 val loss 2.4930\n",
      "step 600: train loss 2.4595 val loss 2.4883\n",
      "step 800: train loss 2.4634 val loss 2.4908\n",
      "step 1000: train loss 2.4528 val loss 2.4903\n",
      "step 1200: train loss 2.4582 val loss 2.5023\n",
      "step 1400: train loss 2.4617 val loss 2.4911\n",
      "step 1600: train loss 2.4571 val loss 2.4900\n",
      "step 1800: train loss 2.4492 val loss 2.4977\n",
      "step 2000: train loss 2.4589 val loss 2.4981\n",
      "step 2200: train loss 2.4548 val loss 2.4946\n",
      "step 2400: train loss 2.4549 val loss 2.4920\n",
      "step 2600: train loss 2.4595 val loss 2.4892\n",
      "step 2800: train loss 2.4640 val loss 2.4887\n",
      "step 3000: train loss 2.4578 val loss 2.4844\n",
      "step 3200: train loss 2.4570 val loss 2.4940\n",
      "step 3400: train loss 2.4535 val loss 2.4813\n",
      "step 3600: train loss 2.4548 val loss 2.4915\n",
      "step 3800: train loss 2.4567 val loss 2.4937\n",
      "step 4000: train loss 2.4574 val loss 2.4930\n",
      "step 4200: train loss 2.4591 val loss 2.4920\n",
      "step 4400: train loss 2.4504 val loss 2.4896\n",
      "step 4600: train loss 2.4539 val loss 2.4956\n",
      "step 4800: train loss 2.4581 val loss 2.4824\n",
      "step 5000: train loss 2.4526 val loss 2.4891\n",
      "step 5200: train loss 2.4673 val loss 2.4850\n",
      "step 5400: train loss 2.4526 val loss 2.4973\n",
      "step 5600: train loss 2.4610 val loss 2.4952\n",
      "step 5800: train loss 2.4461 val loss 2.4840\n",
      "step 6000: train loss 2.4628 val loss 2.4953\n",
      "step 6200: train loss 2.4605 val loss 2.5007\n",
      "step 6400: train loss 2.4615 val loss 2.4999\n",
      "step 6600: train loss 2.4552 val loss 2.4921\n",
      "step 6800: train loss 2.4565 val loss 2.5063\n",
      "step 7000: train loss 2.4562 val loss 2.4997\n",
      "step 7200: train loss 2.4602 val loss 2.4932\n",
      "step 7400: train loss 2.4600 val loss 2.4949\n",
      "step 7600: train loss 2.4540 val loss 2.5029\n",
      "step 7800: train loss 2.4574 val loss 2.4855\n",
      "step 8000: train loss 2.4525 val loss 2.4982\n",
      "step 8200: train loss 2.4473 val loss 2.4947\n",
      "step 8400: train loss 2.4537 val loss 2.4903\n",
      "step 8600: train loss 2.4509 val loss 2.4947\n",
      "step 8800: train loss 2.4562 val loss 2.4882\n",
      "step 9000: train loss 2.4590 val loss 2.4989\n",
      "step 9200: train loss 2.4538 val loss 2.4971\n",
      "step 9400: train loss 2.4554 val loss 2.4930\n",
      "step 9600: train loss 2.4596 val loss 2.4922\n",
      "step 9800: train loss 2.4526 val loss 2.4982\n",
      "\n",
      "Be e lane.\n",
      "O t,\n",
      "MAnd thast ay bet citinorir. IS: amo ngo m fasstou s,--\n",
      "AMu t htereerd\n",
      "BE:\n",
      "TUR:\n",
      "NCLer isenookie w I't O:\n",
      "Wh.\n",
      "ILIm piceetowed amand e\n",
      "Sore ofouse sis is ith y de\n",
      "TERe hed COfad ym o thando yo owe be mand h lomed h t:\n",
      "3 ther tl mor, s\n",
      "\n",
      "\n",
      "\n",
      "PEdshenceadad, hore mma unest s y areased pis co driey meawhe ainon maputou ouril has be.\n",
      "y, d slimeveke ckst da my s,\n",
      "DWhad s o he dous.\n",
      "\n",
      "\n",
      "ERCUCKEDicot f Larerar, m jof marolllcig ht thif wherowait ty, y:\n",
      "Jo he wek slld fofud\n",
      "As mowinequthar se l \n"
     ]
    }
   ],
   "source": [
    "for it in range(10000):\n",
    "    if (it % eval_iters) == 0:\n",
    "        losses = evaluate_loss()\n",
    "        print(f\"step {it}: train loss {losses['train']:.4f} val loss {losses['val']:.4f}\")\n",
    "\n",
    "    xb, yb = get_batch('train')\n",
    "\n",
    "    logits, loss = model(xb, yb)\n",
    "    optimizer.zero_grad(set_to_none=True)\n",
    "    loss.backward()\n",
    "    optimizer.step()\n",
    "\n",
    "context = torch.zeros((1,1), dtype=torch.long, device=device)\n",
    "\n",
    "print(decode(model.generate(context, max_new_tokens=500)[0].tolist()))\n"
   ]
  },
  {
   "cell_type": "code",
   "execution_count": null,
   "metadata": {},
   "outputs": [],
   "source": []
  }
 ],
 "metadata": {
  "kernelspec": {
   "display_name": "pt13",
   "language": "python",
   "name": "python3"
  },
  "language_info": {
   "codemirror_mode": {
    "name": "ipython",
    "version": 3
   },
   "file_extension": ".py",
   "mimetype": "text/x-python",
   "name": "python",
   "nbconvert_exporter": "python",
   "pygments_lexer": "ipython3",
   "version": "3.9.15"
  },
  "orig_nbformat": 4,
  "vscode": {
   "interpreter": {
    "hash": "b1bde98ca18156748a665db74f4f98c7ec88ff336f3f4b3637efb2c0c90e3794"
   }
  }
 },
 "nbformat": 4,
 "nbformat_minor": 2
}
